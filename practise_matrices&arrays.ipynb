{
 "cells": [
  {
   "cell_type": "markdown",
   "metadata": {},
   "source": [
    "                                            sum of arrays "
   ]
  },
  {
   "cell_type": "code",
   "execution_count": 12,
   "metadata": {},
   "outputs": [
    {
     "name": "stdout",
     "output_type": "stream",
     "text": [
      "33\n"
     ]
    }
   ],
   "source": [
    "def Sum_arrays(arr):\n",
    "    sum_of_elem = 0\n",
    "    \n",
    "    for elem in arr:\n",
    "        sum_of_elem += elem\n",
    "    return sum_of_elem\n",
    "\n",
    "result = Sum_arrays([10,11,12])\n",
    "print(result)\n"
   ]
  },
  {
   "cell_type": "markdown",
   "metadata": {},
   "source": [
    "                                    Diagonal Difference"
   ]
  },
  {
   "cell_type": "code",
   "execution_count": 22,
   "metadata": {},
   "outputs": [
    {
     "name": "stdout",
     "output_type": "stream",
     "text": [
      "15\n"
     ]
    }
   ],
   "source": [
    "def diagonalDifference(arr):\n",
    "\n",
    "    prim_diag_sum = 0\n",
    "    sec_diag_sum = 0\n",
    "    n = len(arr)\n",
    "    for i in range(n):\n",
    "        prim_diag_sum += arr[i][i]\n",
    "        sec_diag_sum += arr[i][n-1-i]\n",
    "    absolute_diff = abs(prim_diag_sum - sec_diag_sum)\n",
    "    return absolute_diff\n",
    "\n",
    "if __name__ == \"__main__\":\n",
    "\n",
    "    n = int(input().strip())\n",
    "\n",
    "    arr = []\n",
    "\n",
    "    for _ in range(n):\n",
    "        arr.append(list(map(int, input().rstrip().split())))\n",
    "\n",
    "    result = diagonalDifference(arr)\n",
    "    print(result)\n"
   ]
  },
  {
   "cell_type": "markdown",
   "metadata": {},
   "source": [
    "    \t                        Plus Minus counting the no of zeros, pos, negatives, and prop of those"
   ]
  },
  {
   "cell_type": "code",
   "execution_count": 31,
   "metadata": {},
   "outputs": [
    {
     "name": "stdout",
     "output_type": "stream",
     "text": [
      "1.000000 0.000000 0.000000\n"
     ]
    }
   ],
   "source": [
    "def plusMinus(arr):\n",
    "\n",
    "    count_zero = 0\n",
    "    count_positive = 0\n",
    "    count_negative = 0\n",
    "    for num in arr:\n",
    "        if num < 0:\n",
    "            count_negative += 1\n",
    "        elif num > 0:\n",
    "            count_positive += 1\n",
    "        else:\n",
    "            count_zero += 1\n",
    "    \n",
    "    total_count = len(arr)\n",
    "    prop_positive = count_positive / total_count\n",
    "    prop_negative = count_negative / total_count\n",
    "    prop_zero = count_zero / total_count\n",
    "    #print in 6 decimal format ising 6f\n",
    "    print(\"{0:.6f} {1:.6f} {2:.6f}\".format(prop_positive,prop_negative,prop_zero))\n",
    "\n",
    "if __name__ == \"__main__\":\n",
    "    n = int(input().strip())\n",
    "    arr = list(map(int, input().rstrip().split()))\n",
    "    plusMinus(arr)"
   ]
  },
  {
   "cell_type": "markdown",
   "metadata": {},
   "source": [
    "                                        Staircase"
   ]
  },
  {
   "cell_type": "code",
   "execution_count": 42,
   "metadata": {},
   "outputs": [
    {
     "name": "stdout",
     "output_type": "stream",
     "text": [
      "    #\n",
      "   ##\n",
      "  ###\n",
      " ####\n",
      "#####\n"
     ]
    }
   ],
   "source": [
    "def stairCase(n):\n",
    "    for i in range(n):\n",
    "        print(\" \" * (n - i - 1) + \"#\" * (i + 1))\n",
    "    \n",
    "\n",
    "if __name__ == \"__main__\":\n",
    "    n = int(input().strip())\n",
    "    arr = list(map(int, input().rstrip().split()))\n",
    "    stairCase(n)"
   ]
  },
  {
   "cell_type": "markdown",
   "metadata": {},
   "source": [
    "                                            Min- Max Sum"
   ]
  },
  {
   "cell_type": "code",
   "execution_count": 40,
   "metadata": {},
   "outputs": [
    {
     "name": "stdout",
     "output_type": "stream",
     "text": [
      "16 24\n"
     ]
    }
   ],
   "source": [
    "def min_Max_Sum(arr):\n",
    "    arr.sort()\n",
    "\n",
    "    min_Sum = sum(arr[:4])\n",
    "    max_Sum = sum(arr[1:])\n",
    "    print(min_Sum,max_Sum)\n",
    "\n",
    "if __name__ == \"__main__\":\n",
    "    arr = list(map(int, input().rstrip().split()))\n",
    "    min_Max_Sum(arr)"
   ]
  },
  {
   "cell_type": "markdown",
   "metadata": {},
   "source": [
    "                    BirthdayCakeCandles where choose the heigest and count the no of its times"
   ]
  },
  {
   "cell_type": "code",
   "execution_count": 12,
   "metadata": {},
   "outputs": [
    {
     "name": "stdout",
     "output_type": "stream",
     "text": [
      "4\n"
     ]
    }
   ],
   "source": [
    "def birthdayCakeCandles(candles):\n",
    "    max_height = max(candles)\n",
    "    \n",
    "    count_tallest = candles.count(max_height)\n",
    "\n",
    "    return count_tallest\n",
    "\n",
    "\n",
    "if __name__ == \"__main__\":\n",
    "    candles = list(map(int, input().rstrip().split()))\n",
    "    result = birthdayCakeCandles(candles)\n",
    "    print(result)"
   ]
  },
  {
   "cell_type": "markdown",
   "metadata": {},
   "source": [
    "                Time Conversion"
   ]
  },
  {
   "cell_type": "code",
   "execution_count": 16,
   "metadata": {},
   "outputs": [
    {
     "name": "stdout",
     "output_type": "stream",
     "text": [
      "19:05:45\n"
     ]
    }
   ],
   "source": [
    "def timeConversion(s):\n",
    "    # Split the given time into hours, minutes, seconds, and AM/PM indicator we used the slice op\n",
    "    hh, mm, ss, ampmindicator = s[:2], s[3:5], s[6:8], s[8:]\n",
    "\n",
    "    # Convert the hours from string to integer\n",
    "    hours = int(hh)\n",
    "\n",
    "    # If the given time is in PM format and the hour is not 12, add 12 hours to the given time\n",
    "    if ampmindicator == 'PM' and hours != 12:\n",
    "        hours += 12\n",
    "\n",
    "    # If the given time is in AM format and the hour is 12, change it to 00\n",
    "    elif ampmindicator == 'AM' and hours == 12:\n",
    "        hours = 0\n",
    "\n",
    "    # Return the time in 24-hour format\n",
    "    return '{:02d}:{}:{}'.format(hours, mm, ss)\n",
    "\n",
    "\n",
    "if __name__ == \"__main__\":\n",
    "    result = timeConversion(\"07:05:45PM\")\n",
    "    print(result)"
   ]
  },
  {
   "cell_type": "markdown",
   "metadata": {},
   "source": [
    "                                            Student Grading if less than 40||38 not rounded and also be rounded only when its less than 3 i.e (48,58,68)   "
   ]
  },
  {
   "cell_type": "code",
   "execution_count": 1,
   "metadata": {},
   "outputs": [
    {
     "name": "stdout",
     "output_type": "stream",
     "text": [
      "50\n",
      "60\n",
      "70\n"
     ]
    }
   ],
   "source": [
    "def gradingStudents(grades):\n",
    "    rounded_grades = []\n",
    "    \n",
    "    for grade in grades:\n",
    "        if grade < 38:\n",
    "            rounded_grades.append(grade)\n",
    "        else:\n",
    "            next_multiple_of_5 = (grade // 5 + 1) * 5\n",
    "            if next_multiple_of_5 - grade < 3:\n",
    "                rounded_grades.append(next_multiple_of_5)\n",
    "            else:\n",
    "                rounded_grades.append(grade)\n",
    "    \n",
    "    return rounded_grades\n",
    "\n",
    "if __name__ == '__main__':\n",
    "    grades_count = int(input().strip())\n",
    "    grades = []\n",
    "    \n",
    "    for _ in range(grades_count):\n",
    "        grades_item = int(input().strip())\n",
    "        grades.append(grades_item)\n",
    "    \n",
    "    result = gradingStudents(grades)\n",
    "    \n",
    "    for grade in result:\n",
    "        print(grade)\n"
   ]
  },
  {
   "cell_type": "markdown",
   "metadata": {},
   "source": []
  }
 ],
 "metadata": {
  "kernelspec": {
   "display_name": "Python 3",
   "language": "python",
   "name": "python3"
  },
  "language_info": {
   "codemirror_mode": {
    "name": "ipython",
    "version": 3
   },
   "file_extension": ".py",
   "mimetype": "text/x-python",
   "name": "python",
   "nbconvert_exporter": "python",
   "pygments_lexer": "ipython3",
   "version": "3.11.4"
  }
 },
 "nbformat": 4,
 "nbformat_minor": 2
}
