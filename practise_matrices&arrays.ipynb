{
 "cells": [
  {
   "cell_type": "markdown",
   "metadata": {},
   "source": [
    "                                            sum of arrays "
   ]
  },
  {
   "cell_type": "code",
   "execution_count": 12,
   "metadata": {},
   "outputs": [
    {
     "name": "stdout",
     "output_type": "stream",
     "text": [
      "33\n"
     ]
    }
   ],
   "source": [
    "def Sum_arrays(arr):\n",
    "    sum_of_elem = 0\n",
    "    \n",
    "    for elem in arr:\n",
    "        sum_of_elem += elem\n",
    "    return sum_of_elem\n",
    "\n",
    "result = Sum_arrays([10,11,12])\n",
    "print(result)\n"
   ]
  },
  {
   "cell_type": "markdown",
   "metadata": {},
   "source": [
    "                                    Diagonal Difference"
   ]
  },
  {
   "cell_type": "code",
   "execution_count": 22,
   "metadata": {},
   "outputs": [
    {
     "name": "stdout",
     "output_type": "stream",
     "text": [
      "15\n"
     ]
    }
   ],
   "source": [
    "def diagonalDifference(arr):\n",
    "\n",
    "    prim_diag_sum = 0\n",
    "    sec_diag_sum = 0\n",
    "    n = len(arr)\n",
    "    for i in range(n):\n",
    "        prim_diag_sum += arr[i][i]\n",
    "        sec_diag_sum += arr[i][n-1-i]\n",
    "    absolute_diff = abs(prim_diag_sum - sec_diag_sum)\n",
    "    return absolute_diff\n",
    "\n",
    "if __name__ == \"__main__\":\n",
    "\n",
    "    n = int(input().strip())\n",
    "\n",
    "    arr = []\n",
    "\n",
    "    for _ in range(n):\n",
    "        arr.append(list(map(int, input().rstrip().split())))\n",
    "\n",
    "    result = diagonalDifference(arr)\n",
    "    print(result)\n"
   ]
  },
  {
   "cell_type": "markdown",
   "metadata": {},
   "source": [
    "    \t                        Plus Minus counting the no of zeros, pos, negatives, and prop of those"
   ]
  },
  {
   "cell_type": "code",
   "execution_count": 31,
   "metadata": {},
   "outputs": [
    {
     "name": "stdout",
     "output_type": "stream",
     "text": [
      "1.000000 0.000000 0.000000\n"
     ]
    }
   ],
   "source": [
    "def plusMinus(arr):\n",
    "\n",
    "    count_zero = 0\n",
    "    count_positive = 0\n",
    "    count_negative = 0\n",
    "    for num in arr:\n",
    "        if num < 0:\n",
    "            count_negative += 1\n",
    "        elif num > 0:\n",
    "            count_positive += 1\n",
    "        else:\n",
    "            count_zero += 1\n",
    "    \n",
    "    total_count = len(arr)\n",
    "    prop_positive = count_positive / total_count\n",
    "    prop_negative = count_negative / total_count\n",
    "    prop_zero = count_zero / total_count\n",
    "    #print in 6 decimal format ising 6f\n",
    "    print(\"{0:.6f} {1:.6f} {2:.6f}\".format(prop_positive,prop_negative,prop_zero))\n",
    "\n",
    "if __name__ == \"__main__\":\n",
    "    n = int(input().strip())\n",
    "    arr = list(map(int, input().rstrip().split()))\n",
    "    plusMinus(arr)"
   ]
  },
  {
   "cell_type": "markdown",
   "metadata": {},
   "source": [
    "                                        Staircase"
   ]
  },
  {
   "cell_type": "code",
   "execution_count": 42,
   "metadata": {},
   "outputs": [
    {
     "name": "stdout",
     "output_type": "stream",
     "text": [
      "    #\n",
      "   ##\n",
      "  ###\n",
      " ####\n",
      "#####\n"
     ]
    }
   ],
   "source": [
    "def stairCase(n):\n",
    "    for i in range(n):\n",
    "        print(\" \" * (n - i - 1) + \"#\" * (i + 1))\n",
    "    \n",
    "\n",
    "if __name__ == \"__main__\":\n",
    "    n = int(input().strip())\n",
    "    arr = list(map(int, input().rstrip().split()))\n",
    "    stairCase(n)"
   ]
  },
  {
   "cell_type": "markdown",
   "metadata": {},
   "source": [
    "                                            Min- Max Sum"
   ]
  },
  {
   "cell_type": "code",
   "execution_count": 40,
   "metadata": {},
   "outputs": [
    {
     "name": "stdout",
     "output_type": "stream",
     "text": [
      "16 24\n"
     ]
    }
   ],
   "source": [
    "def min_Max_Sum(arr):\n",
    "    arr.sort()\n",
    "\n",
    "    min_Sum = sum(arr[:4])\n",
    "    max_Sum = sum(arr[1:])\n",
    "    print(min_Sum,max_Sum)\n",
    "\n",
    "if __name__ == \"__main__\":\n",
    "    arr = list(map(int, input().rstrip().split()))\n",
    "    min_Max_Sum(arr)"
   ]
  },
  {
   "cell_type": "markdown",
   "metadata": {},
   "source": []
  }
 ],
 "metadata": {
  "kernelspec": {
   "display_name": "Python 3",
   "language": "python",
   "name": "python3"
  },
  "language_info": {
   "codemirror_mode": {
    "name": "ipython",
    "version": 3
   },
   "file_extension": ".py",
   "mimetype": "text/x-python",
   "name": "python",
   "nbconvert_exporter": "python",
   "pygments_lexer": "ipython3",
   "version": "3.11.4"
  }
 },
 "nbformat": 4,
 "nbformat_minor": 2
}
